{
 "cells": [
  {
   "cell_type": "code",
   "execution_count": 1,
   "metadata": {},
   "outputs": [],
   "source": [
    "from sorn import Simulator\n",
    "import numpy as np\n",
    "\n",
    "# Sample input\n",
    "num_features = 10\n",
    "time_steps = 200\n",
    "inputs = np.random.rand(num_features,time_steps)"
   ]
  },
  {
   "cell_type": "code",
   "execution_count": 2,
   "metadata": {},
   "outputs": [
    {
     "name": "stdout",
     "output_type": "stream",
     "text": [
      "Network Initialized\n",
      "Number of connections in Wee 3894 , Wei 1580, Wie 8000\n",
      "Shapes Wee (200, 200) Wei (40, 200) Wie (200, 40)\n"
     ]
    }
   ],
   "source": [
    "# To simulate the network;\n",
    "matrices_dict, E, I, R, C = Simulator.simulate_sorn(inputs = inputs, phase='plasticity', \n",
    "                                                    matrices=None, noise = True, \n",
    "                                                    time_steps=time_steps,\n",
    "                                                    _ne = 200, _nu=num_features)"
   ]
  },
  {
   "cell_type": "code",
   "execution_count": 3,
   "metadata": {},
   "outputs": [],
   "source": [
    "matrices_dict, E, I, R, C = Simulator.simulate_sorn(inputs = inputs, phase='plasticity', \n",
    "                                                    matrices=matrices_dict, noise= True, \n",
    "                                                    time_steps=time_steps,_ne = 200, \n",
    "                                                    _nu=num_features)"
   ]
  },
  {
   "cell_type": "code",
   "execution_count": 7,
   "metadata": {},
   "outputs": [],
   "source": [
    "from sorn import Trainer\n",
    "inputs = np.random.rand(num_features,1)\n",
    "\n",
    "matrices_dict, E, I, R, C = Trainer.train_sorn(inputs = inputs, phase='training', \n",
    "                                               matrices=matrices_dict,_nu=num_features, \n",
    "                                               time_steps=1)"
   ]
  },
  {
   "cell_type": "code",
   "execution_count": 9,
   "metadata": {},
   "outputs": [
    {
     "name": "stdout",
     "output_type": "stream",
     "text": [
      "Network Initialized\n",
      "Number of connections in Wee 3891 , Wei 1580, Wie 8000\n",
      "Shapes Wee (200, 200) Wei (40, 200) Wie (200, 40)\n"
     ]
    }
   ],
   "source": [
    "matrices_dict, E, I, R, C = Simulator.simulate_sorn(inputs = inputs, phase='plasticity', \n",
    "                                                    matrices=None, noise = True, time_steps=1, \n",
    "                                                    _ne = 200, _nu=num_features, \n",
    "                                                    freeze=['ip'])\n"
   ]
  },
  {
   "cell_type": "code",
   "execution_count": 10,
   "metadata": {},
   "outputs": [
    {
     "name": "stdout",
     "output_type": "stream",
     "text": [
      "Network Initialized\n",
      "Number of connections in Wee 3900 , Wei 1582, Wie 8000\n",
      "Shapes Wee (200, 200) Wei (40, 200) Wie (200, 40)\n"
     ]
    }
   ],
   "source": [
    "matrices_dict, E, I, R, C = Simulator.simulate_sorn(inputs = inputs, phase='plasticity', \n",
    "                                                    matrices=None, noise = True, time_steps=1, \n",
    "                                                    _ne = 200, _nu=num_features, \n",
    "                                                    freeze=['ip','sp','ss'])"
   ]
  },
  {
   "cell_type": "code",
   "execution_count": null,
   "metadata": {},
   "outputs": [],
   "source": []
  }
 ],
 "metadata": {
  "kernelspec": {
   "display_name": "Python 3",
   "language": "python",
   "name": "python3"
  },
  "language_info": {
   "codemirror_mode": {
    "name": "ipython",
    "version": 3
   },
   "file_extension": ".py",
   "mimetype": "text/x-python",
   "name": "python",
   "nbconvert_exporter": "python",
   "pygments_lexer": "ipython3",
   "version": "3.6.10"
  }
 },
 "nbformat": 4,
 "nbformat_minor": 4
}
